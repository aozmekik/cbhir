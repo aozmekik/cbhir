{
 "cells": [
  {
   "cell_type": "code",
   "execution_count": 1,
   "metadata": {},
   "outputs": [
    {
     "name": "stdout",
     "output_type": "stream",
     "text": [
      "AC (%): 0.53\n",
      "PR (%): 0.70\n",
      "RC (%): 0.68\n",
      "HL    : 5.56\n",
      "AC (%): 0.61\n",
      "PR (%): 0.77\n",
      "RC (%): 0.74\n",
      "HL    : 4.57\n",
      "AC (%): 0.61\n",
      "PR (%): 0.78\n",
      "RC (%): 0.74\n",
      "HL    : 4.54\n",
      "AC (%): 0.60\n",
      "PR (%): 0.76\n",
      "RC (%): 0.74\n",
      "HL    : 4.70\n"
     ]
    }
   ],
   "source": [
    "from utils import *"
   ]
  },
  {
   "cell_type": "code",
   "execution_count": 2,
   "metadata": {},
   "outputs": [],
   "source": [
    "def k_closest(db, query, k=6, norm='l2'):\n",
    "    if norm == 'l0':\n",
    "        def key(p): return np.linalg.norm(p[1]-query, ord=0)\n",
    "    if norm == 'l1':\n",
    "        def key(p): return np.linalg.norm(p[1]-query, ord=1)\n",
    "    elif norm == 'l2':\n",
    "        def key(p): return np.linalg.norm(p[1]-query)\n",
    "    elif norm == 'linf':\n",
    "        def key(p): return np.linalg.norm(p[1]-query, ord=np.inf)\n",
    "\n",
    "    db = [i[0] for i in sorted(enumerate(list(db)), key=key)]\n",
    "    return db[:k]"
   ]
  },
  {
   "cell_type": "code",
   "execution_count": 3,
   "metadata": {},
   "outputs": [],
   "source": [
    "def score(db_clss, result):\n",
    "    # number of retrieved images (-1, because the first one is the query)\n",
    "    R = len(result) - 1\n",
    "\n",
    "    # category labels associated with query image\n",
    "    Lq = db_clss[result[0]]\n",
    "\n",
    "    # category labels associated with retrieved images\n",
    "    LXR = [db_clss[i] for i in result[1:]]\n",
    "\n",
    "    # set of category labels associated to archive\n",
    "    LX = 4\n",
    "\n",
    "    ac, pr, rc, hl = 0, 0, 0, 0\n",
    "    for LXr in LXR:\n",
    "        intersect = len(\n",
    "            [1 for index, label in enumerate(LXr) if label == 1 and Lq[index] == 1])\n",
    "        union = len(\n",
    "            [1 for index, label in enumerate(LXr) if label == 1 or Lq[index] == 1])\n",
    "        ac += intersect / union\n",
    "        pr += intersect / len([1 for l in LXr if l == 1])\n",
    "        rc += intersect / len([1 for l in Lq if l == 1])\n",
    "        hl += len([1 for index, label in enumerate(LXr) if (label ==\n",
    "                                                            1 and Lq[index] == 0) or (label == 0 and Lq[index] == 1)])\n",
    "    return ac/R, pr/R, rc/R, hl/R"
   ]
  },
  {
   "cell_type": "code",
   "execution_count": 4,
   "metadata": {},
   "outputs": [],
   "source": [
    "def inference(query, db_feature=None, db_names=None, db_clss=None, model='hsi_model', norm='l2', verbose=False):\n",
    "    if not db_names:\n",
    "        db_img, _, db_names, db_clss = get_hsi()\n",
    "        model = models.load_model(model)\n",
    "        features = models.Model(\n",
    "            inputs=model.input, outputs=model.layers[-2].output)\n",
    "        db_feature = features.predict(db_img)\n",
    "\n",
    "    query_feature = db_feature[db_names.index(query)]\n",
    "    closest = k_closest(db_feature, query_feature, norm=norm)\n",
    "    ac, pr, rc, hl = score(db_clss, closest)\n",
    "    if verbose:\n",
    "        print('Retrieved images: ')\n",
    "        for i in closest:\n",
    "            print('\\t>' + db_names[i][:-3] + 'bmp')\n",
    "        print('AC (%): {:.2f}\\nPR (%): {:.2f}\\nRC (%): {:.2f}\\nHL    : {:.2f}'.format(\n",
    "            ac, pr, rc, hl))\n",
    "    return ac, pr, rc, hl"
   ]
  },
  {
   "cell_type": "code",
   "execution_count": 5,
   "metadata": {},
   "outputs": [],
   "source": [
    "def cbir(model='hsi_model', norm='l2'):\n",
    "    db_img, _, db_names, db_clss = get_hsi()\n",
    "    model = models.load_model(model)\n",
    "    features = models.Model(\n",
    "        inputs=model.input, outputs=model.layers[-2].output)\n",
    "    db_feature = features.predict(db_img)\n",
    "\n",
    "    AC, PR, RC, HL = 0, 0, 0, 0\n",
    "    for query in db_names:\n",
    "        ac, pr, rc, hl = inference(query, db_feature, db_names, db_clss, model, norm)\n",
    "        AC += ac\n",
    "        PR += pr\n",
    "        RC += rc\n",
    "        HL += hl\n",
    "    N = len(db_names)\n",
    "    AC, PR, RC, HL = AC/N, PR/N, RC/N, HL/N\n",
    "    print('AC (%): {:.2f}\\nPR (%): {:.2f}\\nRC (%): {:.2f}\\nHL    : {:.2f}'.format(\n",
    "        100*AC, 100*PR, 100*RC, HL))"
   ]
  },
  {
   "cell_type": "code",
   "execution_count": 6,
   "metadata": {},
   "outputs": [
    {
     "name": "stdout",
     "output_type": "stream",
     "text": [
      "AC (%): 59.52\n",
      "PR (%): 76.29\n",
      "RC (%): 73.71\n",
      "HL    : 4.75\n"
     ]
    }
   ],
   "source": [
    "cbir('cnn_model')"
   ]
  }
 ],
 "metadata": {
  "kernelspec": {
   "display_name": "Python 3",
   "language": "python",
   "name": "python3"
  },
  "language_info": {
   "codemirror_mode": {
    "name": "ipython",
    "version": 3
   },
   "file_extension": ".py",
   "mimetype": "text/x-python",
   "name": "python",
   "nbconvert_exporter": "python",
   "pygments_lexer": "ipython3",
   "version": "3.8.6"
  }
 },
 "nbformat": 4,
 "nbformat_minor": 4
}
